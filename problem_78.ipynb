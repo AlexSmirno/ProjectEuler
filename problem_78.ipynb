{
 "cells": [
  {
   "cell_type": "markdown",
   "id": "2089e341",
   "metadata": {},
   "source": [
    "# Coin Partitions\n",
    "\n",
    "Let p(n) represent the number of different ways in which n coins can be separated into piles. \n",
    "For example, five coins can be separated into piles in exactly seven different ways, so p(5)=7.\n",
    "\n",
    "\n",
    "# Разбиение монет на группы\n",
    "\n",
    "Пусть p(n) представляет собой количество различных способов, которыми n монет могут быть \n",
    "разделены на стопки. Например, пять монет можно разделить на стопки ровно семью различными \n",
    "способами, так что p(5)=7.\n",
    "\n",
    "## Теория \n",
    "### Целочисленное разбиение\n",
    "В теории чисел и комбинаторике разбиение неотрицательного целого числа n, также называемое \n",
    "целочисленным разбиением, — это способ записи n в виде суммы положительных целых чисел. \n",
    "Две суммы, отличающиеся только порядком слагаемых, считаются одним и тем же разбиением.\n",
    "Например, число 4 можно разбить пятью различными способами:\n",
    "\n",
    "4\n",
    "\n",
    "3 + 1\n",
    "\n",
    "2 + 2\n",
    "\n",
    "2 + 1 + 1\n",
    "\n",
    "1 + 1 + 1 + 1\n",
    "\n",
    "### Теорема о пятиугольных числах\n",
    "В математике [теорема Эйлера](https://en.wikipedia.org/wiki/Pentagonal_number_theorem) о пятиугольных числах связывает представление функции Эйлера в виде произведения и ряда.\n",
    "\n",
    "Тождество подразумевает рекурентность для вычисления p(n), где количество разбиений n:\n",
    "\n",
    "p(n) = p(n - 1) + p(n - 2) - p(n - 5) - p(n - 7) + ...\n",
    "\n",
    "или\n",
    "\n",
    "p(n) = Сум(k!=0) (-1)^(k-1)*p(n-g_k), где\n",
    "\n",
    "g_k = k(3k − 1)/2 &nbsp;&nbsp;&nbsp;&nbsp;&nbsp;&nbsp;&nbsp;&nbsp;&nbsp;&nbsp;&nbsp;&nbsp;&nbsp;&nbsp;&nbsp;&nbsp;&nbsp;&nbsp;&nbsp;&nbsp;&nbsp;&nbsp;<-- формула для пентагональных числел (последовательность A001318 в OEIS) \n",
    "\n",
    "k = 1, -1, 2, -2, 3, -3 ..."
   ]
  },
  {
   "cell_type": "code",
   "execution_count": 2,
   "id": "c353238b",
   "metadata": {},
   "outputs": [
    {
     "name": "stdout",
     "output_type": "stream",
     "text": [
      "p(55374) = 36325300925435785930832331577396761646715836173633893227071086460709268608053489541731404543537668438991170680745272159154493740615385823202158167635276250554555342115855424598920159035413044811245082197335097953570911884252410730174907784762924663654000000\n"
     ]
    }
   ],
   "source": [
    "import math \n",
    "\n",
    "def next_k(k):\n",
    "    if(k > 0):\n",
    "        return -k\n",
    "    elif(k < 0):\n",
    "       return -k + 1\n",
    "    else:\n",
    "        return k + 1\n",
    "    \n",
    "def gk(k):\n",
    "    return int(k*(3*k - 1)/2)\n",
    "\n",
    "\n",
    "def p(n, p_s):\n",
    "    p = 0\n",
    "    k = 1\n",
    "    g_k = gk(k)\n",
    "    l = len(p_s)\n",
    "    while(l >= g_k):\n",
    "        power = int(math.pow((-1), (k - 1)))\n",
    "        p += power*p_s[n - g_k]\n",
    "        k = next_k(k)\n",
    "        g_k = gk(k)\n",
    "    return p\n",
    "\n",
    "p_history = [1, 1, 2, 3, 5]\n",
    "\n",
    "for i in range(100000):\n",
    "    n = len(p_history)\n",
    "    new_p = int(p(n, p_history))\n",
    "    p_history.append(new_p)\n",
    "    if(new_p % 1_000_000 == 0):\n",
    "        print(f\"p({n}) = {new_p}\")\n",
    "        break;\n",
    "\n"
   ]
  }
 ],
 "metadata": {
  "kernelspec": {
   "display_name": "Python 3",
   "language": "python",
   "name": "python3"
  },
  "language_info": {
   "codemirror_mode": {
    "name": "ipython",
    "version": 3
   },
   "file_extension": ".py",
   "mimetype": "text/x-python",
   "name": "python",
   "nbconvert_exporter": "python",
   "pygments_lexer": "ipython3",
   "version": "3.12.2"
  }
 },
 "nbformat": 4,
 "nbformat_minor": 5
}
