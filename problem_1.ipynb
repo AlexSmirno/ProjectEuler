{
 "cells": [
  {
   "cell_type": "markdown",
   "id": "ede35f2d",
   "metadata": {},
   "source": [
    "# Multiples of 3 or 5\n",
    "\n",
    "If we list all the natural numbers below 10 that are multiples of 3 or 5, we get 3, 5, 6  and 9. The sum of these multiples is 23. Find the sum of all the multiples of 3 or 5 below 1000.\n",
    "\n",
    "\n",
    "# Числа, кратные 3 или 5\n",
    "\n",
    "Если мы перечислим все натуральные числа ниже 10, кратные 3 или 5, мы получим 3, 5, 6 и 9. Сумма этих чисел равна 23. Найдите сумму всех чисел, кратных 3 или 5, не превышающую 1000.\n",
    "\n",
    "\n",
    "## Теория\n",
    "\n",
    "Сумма арифметической прогрессии:\n",
    "S = (a_1+a_n)*n/2\n",
    "\n",
    "Только дня кратных b:\n",
    "\n",
    "S = 1 + 2 + 3 + ... + n;\n",
    "\n",
    "S_2 = 2 + 4 + 6 + ... + 2n = 2 *(1 + 2 + 3 + ... + n)\n",
    "\n",
    "Следовательно:\n",
    "\n",
    "n = n / b (целочисленное деление)\n",
    "\n",
    "S_b = (a_1+a_n)*n/2 * b => S_b = b*(a_n+1)*n/2\n",
    "\n"
   ]
  },
  {
   "cell_type": "code",
   "execution_count": 4,
   "id": "6ebb9837",
   "metadata": {},
   "outputs": [
    {
     "name": "stdout",
     "output_type": "stream",
     "text": [
      "simple_way - 233168\n",
      "progression - 234168\n"
     ]
    }
   ],
   "source": [
    "# direct solution\n",
    "def simple_way(n, a, b):\n",
    "    sum = 0\n",
    "    for i in range(n):\n",
    "        if (i % a == 0 or i % b == 0):\n",
    "            sum += i\n",
    "    return sum\n",
    "\n",
    "# solution by progression\n",
    "def progression(n, a):\n",
    "    p = n//a\n",
    "    return a*p*(p + 1)//2\n",
    "\n",
    "n = 1000\n",
    "a = 3\n",
    "b = 5\n",
    "\n",
    "print(\"simple_way -\", simple_way(n, a, b))\n",
    "\n",
    "print(\"progression -\", progression(n, a) + progression(n, b) - progression(n, a*b))\n",
    "\n"
   ]
  }
 ],
 "metadata": {
  "language_info": {
   "name": "python"
  }
 },
 "nbformat": 4,
 "nbformat_minor": 5
}
